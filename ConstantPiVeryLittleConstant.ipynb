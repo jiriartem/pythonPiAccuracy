{
  "metadata": {
    "kernelspec": {
      "name": "python",
      "display_name": "Python (Pyodide)",
      "language": "python"
    },
    "language_info": {
      "codemirror_mode": {
        "name": "python",
        "version": 3
      },
      "file_extension": ".py",
      "mimetype": "text/x-python",
      "name": "python",
      "nbconvert_exporter": "python",
      "pygments_lexer": "ipython3",
      "version": "3.8"
    }
  },
  "nbformat_minor": 4,
  "nbformat": 4,
  "cells": [
    {
      "cell_type": "markdown",
      "source": "# How to get accuracy using Pi related calculus with a Pi not so constant.",
      "metadata": {}
    },
    {
      "cell_type": "code",
      "source": "a = 2\na",
      "metadata": {
        "trusted": true
      },
      "outputs": [
        {
          "execution_count": 1,
          "output_type": "execute_result",
          "data": {
            "text/plain": "2"
          },
          "metadata": {}
        }
      ],
      "execution_count": 1
    },
    {
      "cell_type": "markdown",
      "source": "Before we start, we import some preliminary libraries.",
      "metadata": {}
    },
    {
      "cell_type": "raw",
      "source": "%pip install -q ipywidgets",
      "metadata": {}
    },
    {
      "cell_type": "code",
      "source": "import numpy as np\nfrom matplotlib import pyplot as plt\nfrom scipy import integrate\n\nfrom ipywidgets import interactive, fixed",
      "metadata": {
        "trusted": true
      },
      "outputs": [],
      "execution_count": null
    },
    {
      "cell_type": "markdown",
      "source": "We will also define the actual solver and plotting routine.",
      "metadata": {}
    },
    {
      "cell_type": "code",
      "source": "# Generación de Datos Simulados:\n\nimport numpy as np\nimport matplotlib.pyplot as plt\n\n# Crear una señal que depende de una función sinusoidal\ndef generate_signal(num_points, A, B, C, noise_level):\n    t = np.arange(1, num_points + 1)\n    signal = A * np.sin(B * np.pi * t) + C\n    noise = noise_level * (np.random.rand(num_points) * 2 - 1)\n    return signal + noise\n\n# Parámetros\nnum_points = 100\nA = 10\nB = 0.1\nC = 5\nnoise_level = 0.5\n\n# Generar datos de pronóstico (sin ruido) y datos reales (con ruido)\nforecast_data = generate_signal(num_points, A, B, C, 0)\nreal_data = generate_signal(num_points, A, B, C, noise_level)\n\n# Visualizar los datos\nplt.plot(forecast_data, label='Pronóstico')\nplt.plot(real_data, label='Real')\nplt.legend()\nplt.title('Datos de Pronóstico vs. Datos Reales')\nplt.xlabel('Tiempo')\nplt.ylabel('Valor')\nplt.show()\n\n# Ajuste de Pi:\n\ndef calculate_error(forecast_data, real_data, pi):\n    predicted_data = forecast_data * (pi / np.pi)\n    return np.abs(predicted_data - real_data).sum()\n\ndef adjust_pi(forecast_data, real_data, max_decimals):\n    best_pi = np.pi\n    best_error = float('inf')\n    for decimals in range(1, max_decimals + 1):\n        current_pi = round(np.pi, decimals)\n        error = calculate_error(forecast_data, real_data, current_pi)\n        if error < best_error:\n            best_error = error\n            best_pi = current_pi\n    return best_pi, best_error\n\n# Parámetros\nmax_decimals = 15\n\n# Ajustar Pi\nbest_pi, best_error = adjust_pi(forecast_data, real_data, max_decimals)\nprint(f'Mejor precisión de π: {best_pi}')\nprint(f'Error asociado: {best_error}')\n\n# Análisis de Resultados:\n\n# Identificar la precisión mínima de Pi necesaria para obtener un error aceptable\ndef analyze_precision(forecast_data, real_data, max_decimals, acceptable_error):\n    for decimals in range(1, max_decimals + 1):\n        current_pi = round(np.pi, decimals)\n        error = calculate_error(forecast_data, real_data, current_pi)\n        if error <= acceptable_error:\n            return decimals, current_pi, error\n    return max_decimals, round(np.pi, max_decimals), best_error\n\n# Parámetro de error aceptable\nacceptable_error = best_error * 1.1  # 10% más que el mejor error encontrado\n\n# Análisis\nmin_decimals, min_pi, min_error = analyze_precision(forecast_data, real_data, max_decimals, acceptable_error)\nprint(f'Precisión mínima de π: {min_decimals} decimales')\nprint(f'Valor de π: {min_pi}')\nprint(f'Error con {min_decimals} decimales: {min_error}')\n\n# Determinar cómo la precisión de Pi afecta la robustez y estabilidad de los cálculos\n\ndecimals_range = range(1, max_decimals + 1)\nerrors = [calculate_error(forecast_data, real_data, round(np.pi, d)) for d in decimals_range]\n\nplt.plot(decimals_range, errors, marker='o')\nplt.title('Precisión de π vs. Error')\nplt.xlabel('Decimales de π')\nplt.ylabel('Error')\nplt.show()\n",
      "metadata": {
        "trusted": true
      },
      "outputs": [],
      "execution_count": null
    },
    {
      "cell_type": "markdown",
      "source": "Generación de Datos Simulados:\n\nSe crea una señal que depende de una función sinusoidal y se le agrega ruido aleatorio.\nSe visualizan los datos generados.\n\nAjuste de Pi:\n\nSe varía el número de decimales de Pi utilizados en los cálculos.\nSe mide el error entre la señal predicha y la señal medida para cada precisión de Pi.\nSe determina la mejor precisión de Pi.\n\nAnálisis de Resultados:\n\nSe identifica la precisión mínima de Pi necesaria para obtener un error aceptable.\nSe determina cómo la precisión de Pi afecta la robustez y estabilidad de los cálculos.",
      "metadata": {}
    }
  ]
}
